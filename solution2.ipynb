{
 "cells": [
  {
   "cell_type": "code",
   "execution_count": 1,
   "id": "initial_id",
   "metadata": {
    "collapsed": true,
    "ExecuteTime": {
     "end_time": "2024-01-23T00:52:11.429404Z",
     "start_time": "2024-01-23T00:52:11.426060Z"
    }
   },
   "outputs": [
    {
     "name": "stdout",
     "output_type": "stream",
     "text": [
      "Ismail\n"
     ]
    }
   ],
   "source": [
    "print(\"Ismail\")"
   ]
  },
  {
   "cell_type": "code",
   "execution_count": 2,
   "outputs": [],
   "source": [
    "import pandas as pd\n",
    "df = pd.read_csv(\"players.csv\")"
   ],
   "metadata": {
    "collapsed": false,
    "ExecuteTime": {
     "end_time": "2024-01-23T00:54:01.088032Z",
     "start_time": "2024-01-23T00:54:00.555167Z"
    }
   },
   "id": "723f59710f0b0052"
  },
  {
   "cell_type": "code",
   "execution_count": 6,
   "outputs": [
    {
     "data": {
      "text/plain": "   player_id first_name     last_name                 name  last_season  \\\n0         10   Miroslav         Klose       Miroslav Klose         2015   \n1         26      Roman  Weidenfeller   Roman Weidenfeller         2017   \n2         65    Dimitar      Berbatov     Dimitar Berbatov         2015   \n3         77        NaN         Lúcio                Lúcio         2012   \n4         80        Tom        Starke           Tom Starke         2017   \n5        109        NaN          Dedê                 Dedê         2013   \n6        123  Christoph     Metzelder  Christoph Metzelder         2012   \n7        132      Tomas       Rosicky        Tomas Rosicky         2015   \n8        162       Marc       Ziegler         Marc Ziegler         2012   \n9        215      Roque    Santa Cruz     Roque Santa Cruz         2015   \n\n   current_club_id          player_code    country_of_birth   city_of_birth  \\\n0              398       miroslav-klose              Poland           Opole   \n1               16   roman-weidenfeller             Germany            Diez   \n2             1091     dimitar-berbatov            Bulgaria     Blagoevgrad   \n3              506                lucio              Brazil        Brasília   \n4               27           tom-starke  East Germany (GDR)         Freital   \n5              825                 dede              Brazil  Belo Horizonte   \n6               33  christoph-metzelder             Germany         Haltern   \n7               11        tomas-rosicky                CSSR           Praha   \n8               79         marc-ziegler             Germany     Blieskastel   \n9             1084     roque-santa-cruz            Paraguay        Asunción   \n\n  country_of_citizenship  ...   foot height_in_cm contract_expiration_date  \\\n0                Germany  ...  right        184.0                      NaN   \n1                Germany  ...   left        190.0                      NaN   \n2               Bulgaria  ...    NaN          NaN                      NaN   \n3                 Brazil  ...    NaN          NaN                      NaN   \n4                Germany  ...  right        194.0                      NaN   \n5                 Brazil  ...    NaN          NaN                      NaN   \n6                Germany  ...    NaN          NaN                      NaN   \n7         Czech Republic  ...   both        179.0                      NaN   \n8                Germany  ...  right        193.0                      NaN   \n9               Paraguay  ...  right        193.0      2023-12-31 00:00:00   \n\n             agent_name                                          image_url  \\\n0  ASBW Sport Marketing  https://img.a.transfermarkt.technology/portrai...   \n1      Neubauer 13 GmbH  https://img.a.transfermarkt.technology/portrai...   \n2       CSKA-AS-23 Ltd.  https://img.a.transfermarkt.technology/portrai...   \n3                   NaN  https://img.a.transfermarkt.technology/portrai...   \n4                   IFM  https://img.a.transfermarkt.technology/portrai...   \n5      Football Concept  https://img.a.transfermarkt.technology/portrai...   \n6                   NaN  https://img.a.transfermarkt.technology/portrai...   \n7                   NaN  https://img.a.transfermarkt.technology/portrai...   \n8                   NaN  https://img.a.transfermarkt.technology/portrai...   \n9                   NaN  https://img.a.transfermarkt.technology/portrai...   \n\n                                                 url  \\\n0  https://www.transfermarkt.co.uk/miroslav-klose...   \n1  https://www.transfermarkt.co.uk/roman-weidenfe...   \n2  https://www.transfermarkt.co.uk/dimitar-berbat...   \n3  https://www.transfermarkt.co.uk/lucio/profil/s...   \n4  https://www.transfermarkt.co.uk/tom-starke/pro...   \n5  https://www.transfermarkt.co.uk/dede/profil/sp...   \n6  https://www.transfermarkt.co.uk/christoph-metz...   \n7  https://www.transfermarkt.co.uk/tomas-rosicky/...   \n8  https://www.transfermarkt.co.uk/marc-ziegler/p...   \n9  https://www.transfermarkt.co.uk/roque-santa-cr...   \n\n  current_club_domestic_competition_id  \\\n0                                  IT1   \n1                                   L1   \n2                                  GR1   \n3                                  IT1   \n4                                   L1   \n5                                  TR1   \n6                                   L1   \n7                                  GB1   \n8                                   L1   \n9                                  ES1   \n\n                                   current_club_name market_value_in_eur  \\\n0                      Società Sportiva Lazio S.p.A.           1000000.0   \n1                                  Borussia Dortmund            750000.0   \n2  Panthessalonikios Athlitikos Omilos Konstantin...           1000000.0   \n3                             Juventus Football Club            200000.0   \n4                                  FC Bayern München            100000.0   \n5                                      Eskisehirspor            400000.0   \n6                                      FC Schalke 04           1500000.0   \n7                              Arsenal Football Club            350000.0   \n8          Verein für Bewegungsspiele Stuttgart 1893            200000.0   \n9                                          Málaga CF            250000.0   \n\n  highest_market_value_in_eur  \n0                  30000000.0  \n1                   8000000.0  \n2                  34500000.0  \n3                  24500000.0  \n4                   3000000.0  \n5                   9500000.0  \n6                   9500000.0  \n7                  17500000.0  \n8                   1250000.0  \n9                  12000000.0  \n\n[10 rows x 23 columns]",
      "text/html": "<div>\n<style scoped>\n    .dataframe tbody tr th:only-of-type {\n        vertical-align: middle;\n    }\n\n    .dataframe tbody tr th {\n        vertical-align: top;\n    }\n\n    .dataframe thead th {\n        text-align: right;\n    }\n</style>\n<table border=\"1\" class=\"dataframe\">\n  <thead>\n    <tr style=\"text-align: right;\">\n      <th></th>\n      <th>player_id</th>\n      <th>first_name</th>\n      <th>last_name</th>\n      <th>name</th>\n      <th>last_season</th>\n      <th>current_club_id</th>\n      <th>player_code</th>\n      <th>country_of_birth</th>\n      <th>city_of_birth</th>\n      <th>country_of_citizenship</th>\n      <th>...</th>\n      <th>foot</th>\n      <th>height_in_cm</th>\n      <th>contract_expiration_date</th>\n      <th>agent_name</th>\n      <th>image_url</th>\n      <th>url</th>\n      <th>current_club_domestic_competition_id</th>\n      <th>current_club_name</th>\n      <th>market_value_in_eur</th>\n      <th>highest_market_value_in_eur</th>\n    </tr>\n  </thead>\n  <tbody>\n    <tr>\n      <th>0</th>\n      <td>10</td>\n      <td>Miroslav</td>\n      <td>Klose</td>\n      <td>Miroslav Klose</td>\n      <td>2015</td>\n      <td>398</td>\n      <td>miroslav-klose</td>\n      <td>Poland</td>\n      <td>Opole</td>\n      <td>Germany</td>\n      <td>...</td>\n      <td>right</td>\n      <td>184.0</td>\n      <td>NaN</td>\n      <td>ASBW Sport Marketing</td>\n      <td>https://img.a.transfermarkt.technology/portrai...</td>\n      <td>https://www.transfermarkt.co.uk/miroslav-klose...</td>\n      <td>IT1</td>\n      <td>Società Sportiva Lazio S.p.A.</td>\n      <td>1000000.0</td>\n      <td>30000000.0</td>\n    </tr>\n    <tr>\n      <th>1</th>\n      <td>26</td>\n      <td>Roman</td>\n      <td>Weidenfeller</td>\n      <td>Roman Weidenfeller</td>\n      <td>2017</td>\n      <td>16</td>\n      <td>roman-weidenfeller</td>\n      <td>Germany</td>\n      <td>Diez</td>\n      <td>Germany</td>\n      <td>...</td>\n      <td>left</td>\n      <td>190.0</td>\n      <td>NaN</td>\n      <td>Neubauer 13 GmbH</td>\n      <td>https://img.a.transfermarkt.technology/portrai...</td>\n      <td>https://www.transfermarkt.co.uk/roman-weidenfe...</td>\n      <td>L1</td>\n      <td>Borussia Dortmund</td>\n      <td>750000.0</td>\n      <td>8000000.0</td>\n    </tr>\n    <tr>\n      <th>2</th>\n      <td>65</td>\n      <td>Dimitar</td>\n      <td>Berbatov</td>\n      <td>Dimitar Berbatov</td>\n      <td>2015</td>\n      <td>1091</td>\n      <td>dimitar-berbatov</td>\n      <td>Bulgaria</td>\n      <td>Blagoevgrad</td>\n      <td>Bulgaria</td>\n      <td>...</td>\n      <td>NaN</td>\n      <td>NaN</td>\n      <td>NaN</td>\n      <td>CSKA-AS-23 Ltd.</td>\n      <td>https://img.a.transfermarkt.technology/portrai...</td>\n      <td>https://www.transfermarkt.co.uk/dimitar-berbat...</td>\n      <td>GR1</td>\n      <td>Panthessalonikios Athlitikos Omilos Konstantin...</td>\n      <td>1000000.0</td>\n      <td>34500000.0</td>\n    </tr>\n    <tr>\n      <th>3</th>\n      <td>77</td>\n      <td>NaN</td>\n      <td>Lúcio</td>\n      <td>Lúcio</td>\n      <td>2012</td>\n      <td>506</td>\n      <td>lucio</td>\n      <td>Brazil</td>\n      <td>Brasília</td>\n      <td>Brazil</td>\n      <td>...</td>\n      <td>NaN</td>\n      <td>NaN</td>\n      <td>NaN</td>\n      <td>NaN</td>\n      <td>https://img.a.transfermarkt.technology/portrai...</td>\n      <td>https://www.transfermarkt.co.uk/lucio/profil/s...</td>\n      <td>IT1</td>\n      <td>Juventus Football Club</td>\n      <td>200000.0</td>\n      <td>24500000.0</td>\n    </tr>\n    <tr>\n      <th>4</th>\n      <td>80</td>\n      <td>Tom</td>\n      <td>Starke</td>\n      <td>Tom Starke</td>\n      <td>2017</td>\n      <td>27</td>\n      <td>tom-starke</td>\n      <td>East Germany (GDR)</td>\n      <td>Freital</td>\n      <td>Germany</td>\n      <td>...</td>\n      <td>right</td>\n      <td>194.0</td>\n      <td>NaN</td>\n      <td>IFM</td>\n      <td>https://img.a.transfermarkt.technology/portrai...</td>\n      <td>https://www.transfermarkt.co.uk/tom-starke/pro...</td>\n      <td>L1</td>\n      <td>FC Bayern München</td>\n      <td>100000.0</td>\n      <td>3000000.0</td>\n    </tr>\n    <tr>\n      <th>5</th>\n      <td>109</td>\n      <td>NaN</td>\n      <td>Dedê</td>\n      <td>Dedê</td>\n      <td>2013</td>\n      <td>825</td>\n      <td>dede</td>\n      <td>Brazil</td>\n      <td>Belo Horizonte</td>\n      <td>Brazil</td>\n      <td>...</td>\n      <td>NaN</td>\n      <td>NaN</td>\n      <td>NaN</td>\n      <td>Football Concept</td>\n      <td>https://img.a.transfermarkt.technology/portrai...</td>\n      <td>https://www.transfermarkt.co.uk/dede/profil/sp...</td>\n      <td>TR1</td>\n      <td>Eskisehirspor</td>\n      <td>400000.0</td>\n      <td>9500000.0</td>\n    </tr>\n    <tr>\n      <th>6</th>\n      <td>123</td>\n      <td>Christoph</td>\n      <td>Metzelder</td>\n      <td>Christoph Metzelder</td>\n      <td>2012</td>\n      <td>33</td>\n      <td>christoph-metzelder</td>\n      <td>Germany</td>\n      <td>Haltern</td>\n      <td>Germany</td>\n      <td>...</td>\n      <td>NaN</td>\n      <td>NaN</td>\n      <td>NaN</td>\n      <td>NaN</td>\n      <td>https://img.a.transfermarkt.technology/portrai...</td>\n      <td>https://www.transfermarkt.co.uk/christoph-metz...</td>\n      <td>L1</td>\n      <td>FC Schalke 04</td>\n      <td>1500000.0</td>\n      <td>9500000.0</td>\n    </tr>\n    <tr>\n      <th>7</th>\n      <td>132</td>\n      <td>Tomas</td>\n      <td>Rosicky</td>\n      <td>Tomas Rosicky</td>\n      <td>2015</td>\n      <td>11</td>\n      <td>tomas-rosicky</td>\n      <td>CSSR</td>\n      <td>Praha</td>\n      <td>Czech Republic</td>\n      <td>...</td>\n      <td>both</td>\n      <td>179.0</td>\n      <td>NaN</td>\n      <td>NaN</td>\n      <td>https://img.a.transfermarkt.technology/portrai...</td>\n      <td>https://www.transfermarkt.co.uk/tomas-rosicky/...</td>\n      <td>GB1</td>\n      <td>Arsenal Football Club</td>\n      <td>350000.0</td>\n      <td>17500000.0</td>\n    </tr>\n    <tr>\n      <th>8</th>\n      <td>162</td>\n      <td>Marc</td>\n      <td>Ziegler</td>\n      <td>Marc Ziegler</td>\n      <td>2012</td>\n      <td>79</td>\n      <td>marc-ziegler</td>\n      <td>Germany</td>\n      <td>Blieskastel</td>\n      <td>Germany</td>\n      <td>...</td>\n      <td>right</td>\n      <td>193.0</td>\n      <td>NaN</td>\n      <td>NaN</td>\n      <td>https://img.a.transfermarkt.technology/portrai...</td>\n      <td>https://www.transfermarkt.co.uk/marc-ziegler/p...</td>\n      <td>L1</td>\n      <td>Verein für Bewegungsspiele Stuttgart 1893</td>\n      <td>200000.0</td>\n      <td>1250000.0</td>\n    </tr>\n    <tr>\n      <th>9</th>\n      <td>215</td>\n      <td>Roque</td>\n      <td>Santa Cruz</td>\n      <td>Roque Santa Cruz</td>\n      <td>2015</td>\n      <td>1084</td>\n      <td>roque-santa-cruz</td>\n      <td>Paraguay</td>\n      <td>Asunción</td>\n      <td>Paraguay</td>\n      <td>...</td>\n      <td>right</td>\n      <td>193.0</td>\n      <td>2023-12-31 00:00:00</td>\n      <td>NaN</td>\n      <td>https://img.a.transfermarkt.technology/portrai...</td>\n      <td>https://www.transfermarkt.co.uk/roque-santa-cr...</td>\n      <td>ES1</td>\n      <td>Málaga CF</td>\n      <td>250000.0</td>\n      <td>12000000.0</td>\n    </tr>\n  </tbody>\n</table>\n<p>10 rows × 23 columns</p>\n</div>"
     },
     "execution_count": 6,
     "metadata": {},
     "output_type": "execute_result"
    }
   ],
   "source": [
    "df.head(10)"
   ],
   "metadata": {
    "collapsed": false,
    "ExecuteTime": {
     "end_time": "2024-01-23T00:56:19.817149Z",
     "start_time": "2024-01-23T00:56:19.813234Z"
    }
   },
   "id": "9212627f9f8c0413"
  },
  {
   "cell_type": "code",
   "execution_count": null,
   "outputs": [],
   "source": [],
   "metadata": {
    "collapsed": false
   },
   "id": "4b0f52c0656b3f08"
  }
 ],
 "metadata": {
  "kernelspec": {
   "display_name": "Python 3",
   "language": "python",
   "name": "python3"
  },
  "language_info": {
   "codemirror_mode": {
    "name": "ipython",
    "version": 2
   },
   "file_extension": ".py",
   "mimetype": "text/x-python",
   "name": "python",
   "nbconvert_exporter": "python",
   "pygments_lexer": "ipython2",
   "version": "2.7.6"
  }
 },
 "nbformat": 4,
 "nbformat_minor": 5
}
