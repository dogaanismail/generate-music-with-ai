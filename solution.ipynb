{
 "cells": [
  {
   "cell_type": "code",
   "execution_count": null,
   "id": "initial_id",
   "metadata": {
    "collapsed": true,
    "jupyter": {
     "outputs_hidden": true
    },
    "ExecuteTime": {
     "end_time": "2023-12-29T21:18:29.700482Z",
     "start_time": "2023-12-29T21:18:29.694608Z"
    }
   },
   "outputs": [],
   "source": []
  },
  {
   "cell_type": "code",
   "execution_count": 1,
   "id": "8f7a660ce47e9412",
   "metadata": {
    "collapsed": false,
    "ExecuteTime": {
     "end_time": "2023-12-29T21:18:29.794755Z",
     "start_time": "2023-12-29T21:18:29.704751Z"
    }
   },
   "outputs": [
    {
     "ename": "ModuleNotFoundError",
     "evalue": "No module named 'audiocraft'",
     "output_type": "error",
     "traceback": [
      "\u001B[0;31m---------------------------------------------------------------------------\u001B[0m",
      "\u001B[0;31mModuleNotFoundError\u001B[0m                       Traceback (most recent call last)",
      "Cell \u001B[0;32mIn[1], line 1\u001B[0m\n\u001B[0;32m----> 1\u001B[0m \u001B[38;5;28;01mfrom\u001B[39;00m \u001B[38;5;21;01maudiocraft\u001B[39;00m\u001B[38;5;21;01m.\u001B[39;00m\u001B[38;5;21;01mmodels\u001B[39;00m \u001B[38;5;28;01mimport\u001B[39;00m MusicGen\n\u001B[1;32m      2\u001B[0m \u001B[38;5;28;01mfrom\u001B[39;00m \u001B[38;5;21;01mIPython\u001B[39;00m\u001B[38;5;21;01m.\u001B[39;00m\u001B[38;5;21;01mdisplay\u001B[39;00m \u001B[38;5;28;01mimport\u001B[39;00m Audio\n\u001B[1;32m      3\u001B[0m \u001B[38;5;28;01mfrom\u001B[39;00m \u001B[38;5;21;01mipywidgets\u001B[39;00m \u001B[38;5;28;01mimport\u001B[39;00m Textarea\n",
      "\u001B[0;31mModuleNotFoundError\u001B[0m: No module named 'audiocraft'"
     ]
    }
   ],
   "source": [
    "\n",
    "from audiocraft.models import MusicGen\n",
    "from IPython.display import Audio\n",
    "from ipywidgets import Textarea\n",
    "from ipywidgets import Button\n",
    "\n",
    "# Task 2: Load Pretrained Model\n",
    "model = MusicGen.get_pretrained('facebook/musicgen-small')\n",
    "\n",
    "# Task 3: Configure Model Parameters\n",
    "model.set_generation_params(duration=8)\n",
    "\n",
    "# Task 4: Generate Music\n",
    "results = model.generate(['classic rock song'])\n",
    "sampling_rate = model.sample_rate\n",
    "Audio(results[0].numpy(), rate=sampling_rate)\n",
    "# Task 5: Build a Text Input\n",
    "description = Textarea(rows=4)\n",
    "description"
   ]
  },
  {
   "cell_type": "code",
   "execution_count": 1,
   "outputs": [
    {
     "ename": "NameError",
     "evalue": "name 'Button' is not defined",
     "output_type": "error",
     "traceback": [
      "\u001B[0;31m---------------------------------------------------------------------------\u001B[0m",
      "\u001B[0;31mNameError\u001B[0m                                 Traceback (most recent call last)",
      "Cell \u001B[0;32mIn[1], line 2\u001B[0m\n\u001B[1;32m      1\u001B[0m \u001B[38;5;66;03m# Task 6: Generate Button\u001B[39;00m\n\u001B[0;32m----> 2\u001B[0m generate_button \u001B[38;5;241m=\u001B[39m Button(description\u001B[38;5;241m=\u001B[39m\u001B[38;5;124m\"\u001B[39m\u001B[38;5;124mGenerate Tune\u001B[39m\u001B[38;5;124m\"\u001B[39m)\n\u001B[1;32m      3\u001B[0m generate_button\n",
      "\u001B[0;31mNameError\u001B[0m: name 'Button' is not defined"
     ]
    }
   ],
   "source": [
    "\n",
    "# Task 6: Generate Button\n",
    "generate_button = Button(description=\"Generate Tune\")\n",
    "generate_button"
   ],
   "metadata": {
    "collapsed": false,
    "ExecuteTime": {
     "end_time": "2024-01-23T00:50:52.324005Z",
     "start_time": "2024-01-23T00:50:52.177053Z"
    }
   },
   "id": "a16f79231c55ef9e"
  },
  {
   "cell_type": "code",
   "execution_count": null,
   "outputs": [],
   "source": [
    "\n",
    "# Task 7: Connect UI to the Model\n",
    "\n",
    "# Create a text area and a button\n",
    "description = Textarea(value='', placeholder='Give a music prompt', disabled=False, rows=4)\n",
    "generate_button = Button(description=\"Generate Tune\")\n",
    "\n",
    "\n",
    "# A function to generate music as prompted\n",
    "def generate_tune(event):\n",
    "    results = model.generate([description.value])\n",
    "    sampling_rate = model.sample_rate\n",
    "    display(Audio(results[0].numpy(), rate=sampling_rate))\n",
    "\n",
    "\n",
    "# Creating a click event on the button\n",
    "generate_button.on_click(generate_tune)\n",
    "\n",
    "# Display the UI items\n",
    "display(description)\n",
    "display(generate_button)\n",
    "\n",
    "# Task 8: Refine Prompts\n",
    "results = model.generate(['rock song'])\n",
    "sampling_rate = model.sample_rate\n",
    "Audio(results[0].numpy(), rate=sampling_rate)\n",
    "\n",
    "results = model.generate(['upbeat rock song with guitar solo'])\n",
    "sampling_rate = model.sample_rate\n",
    "Audio(results[0].numpy(), rate=sampling_rate)\n",
    "\n",
    "# Task 9: Compare Outputs from Different Models\n",
    "model1 = MusicGen.get_pretrained('facebook/musicgen-small')\n",
    "model1.set_generation_params(duration=8)\n",
    "results = model1.generate(['classic rock song'])\n",
    "sampling_rate1 = model.sample_rate\n",
    "Audio(results[0].numpy(), rate=sampling_rate1)\n",
    "\n",
    "model2 = MusicGen.get_pretrained('facebook/musicgen-medium')\n",
    "model2.set_generation_params(duration=8)\n",
    "results = model2.generate(['classic rock song'])\n",
    "sampling_rate2 = model2.sample_rate\n",
    "Audio(results[0].numpy(), rate=sampling_rate2)"
   ],
   "metadata": {
    "collapsed": false,
    "ExecuteTime": {
     "start_time": "2023-12-29T21:18:29.789476Z"
    }
   },
   "id": "5f10ef7bb3f808b1"
  },
  {
   "cell_type": "code",
   "execution_count": null,
   "id": "3cbdf9de-619a-4dc1-924c-c6aaaef017c1",
   "metadata": {
    "ExecuteTime": {
     "start_time": "2023-12-29T21:18:29.790201Z"
    }
   },
   "outputs": [],
   "source": []
  }
 ],
 "metadata": {
  "kernelspec": {
   "display_name": "Python 3 (ipykernel)",
   "language": "python",
   "name": "python3"
  },
  "language_info": {
   "codemirror_mode": {
    "name": "ipython",
    "version": 3
   },
   "file_extension": ".py",
   "mimetype": "text/x-python",
   "name": "python",
   "nbconvert_exporter": "python",
   "pygments_lexer": "ipython3",
   "version": "3.10.11"
  }
 },
 "nbformat": 4,
 "nbformat_minor": 5
}
