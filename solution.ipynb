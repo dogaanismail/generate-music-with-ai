{
 "cells": [
  {
   "cell_type": "code",
   "execution_count": null,
   "id": "initial_id",
   "metadata": {
    "collapsed": true
   },
   "outputs": [],
   "source": []
  },
  {
   "cell_type": "code",
   "execution_count": null,
   "outputs": [],
   "source": [
    "\n",
    "from IPython.display import Audio\n",
    "from ipywidgets import Textarea\n",
    "from ipywidgets import Button\n",
    "\n",
    "from audiocraft.models import MusicGen\n",
    "\n",
    "# Task 2: Load Pretrained Model\n",
    "model = MusicGen.get_pretrained('facebook/musicgen-small')\n",
    "\n",
    "# Task 3: Configure Model Parameters\n",
    "model.set_generation_params(duration=8)\n",
    "\n",
    "# Task 4: Generate Music\n",
    "results = model.generate(['classic rock song'])\n",
    "sampling_rate = model.sample_rate\n",
    "Audio(results[0].numpy(), rate=sampling_rate)\n",
    "# Task 5: Build a Text Input\n",
    "description = Textarea(rows=4)\n",
    "description\n",
    "\n",
    "# Task 6: Generate Button\n",
    "generate_button = Button(description=\"Generate Tune\")\n",
    "generate_button\n",
    "\n",
    "# Task 7: Connect UI to the Model\n",
    "\n",
    "# Create a text area and a button\n",
    "description = Textarea(value='', placeholder='Give a music prompt', disabled=False, rows=4)\n",
    "generate_button = Button(description=\"Generate Tune\")\n",
    "\n",
    "\n",
    "# A function to generate music as prompted\n",
    "def generate_tune(event):\n",
    "    results = model.generate([description.value])\n",
    "    sampling_rate = model.sample_rate\n",
    "    display(Audio(results[0].numpy(), rate=sampling_rate))\n",
    "\n",
    "\n",
    "# Creating a click event on the button\n",
    "generate_button.on_click(generate_tune)\n",
    "\n",
    "# Display the UI items\n",
    "display(description)\n",
    "display(generate_button)\n",
    "\n",
    "# Task 8: Refine Prompts\n",
    "results = model.generate(['rock song'])\n",
    "sampling_rate = model.sample_rate\n",
    "Audio(results[0].numpy(), rate=sampling_rate)\n",
    "\n",
    "results = model.generate(['upbeat rock song with guitar solo'])\n",
    "sampling_rate = model.sample_rate\n",
    "Audio(results[0].numpy(), rate=sampling_rate)\n",
    "\n",
    "# Task 9: Compare Outputs from Different Models\n",
    "model1 = MusicGen.get_pretrained('facebook/musicgen-small')\n",
    "model1.set_generation_params(duration=8)\n",
    "results = model1.generate(['classic rock song'])\n",
    "sampling_rate1 = model.sample_rate\n",
    "Audio(results[0].numpy(), rate=sampling_rate1)\n",
    "\n",
    "model2 = MusicGen.get_pretrained('facebook/musicgen-medium')\n",
    "model2.set_generation_params(duration=8)\n",
    "results = model2.generate(['classic rock song'])\n",
    "sampling_rate2 = model2.sample_rate\n",
    "Audio(results[0].numpy(), rate=sampling_rate2)"
   ],
   "metadata": {
    "collapsed": false
   },
   "id": "5f10ef7bb3f808b1"
  }
 ],
 "metadata": {
  "kernelspec": {
   "display_name": "Python 3",
   "language": "python",
   "name": "python3"
  },
  "language_info": {
   "codemirror_mode": {
    "name": "ipython",
    "version": 2
   },
   "file_extension": ".py",
   "mimetype": "text/x-python",
   "name": "python",
   "nbconvert_exporter": "python",
   "pygments_lexer": "ipython2",
   "version": "2.7.6"
  }
 },
 "nbformat": 4,
 "nbformat_minor": 5
}
